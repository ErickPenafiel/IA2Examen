{
  "nbformat": 4,
  "nbformat_minor": 0,
  "metadata": {
    "colab": {
      "provenance": []
    },
    "kernelspec": {
      "name": "python3",
      "display_name": "Python 3"
    },
    "language_info": {
      "name": "python"
    },
    "accelerator": "GPU",
    "gpuClass": "standard"
  },
  "cells": [
    {
      "cell_type": "code",
      "source": [
        "import torch\n",
        "import torchvision\n",
        "import torchvision.transforms as transforms\n",
        "import numpy as np\n",
        "\n",
        "device = \"cuda\" if torch.cuda.is_available() else \"cpu\""
      ],
      "metadata": {
        "id": "3ny-0Pp7mDa_"
      },
      "execution_count": 52,
      "outputs": []
    },
    {
      "cell_type": "code",
      "source": [
        "transform = transforms.Compose(\n",
        "    [transforms.ToTensor(),\n",
        "     transforms.Normalize((0.5, 0.5, 0.5), (0.5, 0.5, 0.5))])"
      ],
      "metadata": {
        "id": "VbZHI3v4tQan"
      },
      "execution_count": 53,
      "outputs": []
    },
    {
      "cell_type": "code",
      "source": [
        "train_dataset = torchvision.datasets.CIFAR10(root='.', train=True, transform=transform, download=True)\n",
        "test_dataset = torchvision.datasets.CIFAR10(root='.', train=False, transform=transforms.ToTensor(), download=True)\n",
        "\n",
        "classes = ('plane', 'car', 'bird', 'cat',\n",
        "           'deer', 'dog', 'frog', 'horse', 'ship', 'truck')"
      ],
      "metadata": {
        "colab": {
          "base_uri": "https://localhost:8080/"
        },
        "id": "zMxsGQfKmAmg",
        "outputId": "0cd01699-d556-42a4-d664-117bfad8395f"
      },
      "execution_count": 54,
      "outputs": [
        {
          "output_type": "stream",
          "name": "stdout",
          "text": [
            "Files already downloaded and verified\n",
            "Files already downloaded and verified\n"
          ]
        }
      ]
    },
    {
      "cell_type": "code",
      "source": [
        "print(\"dataset keys:\",train_dataset.__dict__.keys())\n",
        "print(\"dataset classes:\", train_dataset.classes)\n",
        "print(\"dataset data type:\", type(train_dataset.data))\n",
        "print(\"dataset target type:\", type(train_dataset.targets))"
      ],
      "metadata": {
        "colab": {
          "base_uri": "https://localhost:8080/"
        },
        "id": "yQEZfKfNtix2",
        "outputId": "7e9d3295-40ae-42dd-d3cf-4e3428b87816"
      },
      "execution_count": 55,
      "outputs": [
        {
          "output_type": "stream",
          "name": "stdout",
          "text": [
            "dataset keys: dict_keys(['root', 'transform', 'target_transform', 'transforms', 'train', 'data', 'targets', 'classes', 'class_to_idx'])\n",
            "dataset classes: ['airplane', 'automobile', 'bird', 'cat', 'deer', 'dog', 'frog', 'horse', 'ship', 'truck']\n",
            "dataset data type: <class 'numpy.ndarray'>\n",
            "dataset target type: <class 'list'>\n"
          ]
        }
      ]
    },
    {
      "cell_type": "code",
      "source": [
        "batch_size = 128\n",
        "\n",
        "dataloader = {\n",
        "    'train': torch.utils.data.DataLoader(train_dataset, batch_size=batch_size, shuffle=True, pin_memory=True),\n",
        "    'test': torch.utils.data.DataLoader(test_dataset, batch_size=batch_size, shuffle=False, pin_memory=True)\n",
        "}"
      ],
      "metadata": {
        "id": "Il50m84ttoW0"
      },
      "execution_count": 56,
      "outputs": []
    },
    {
      "cell_type": "code",
      "source": [
        "#def block(c_in, c_out, k=5, p=0, s=2, pk=2, ps=1):\n",
        "def block(c_in, c_out, k=3, p=0, s=2, pk=2, ps=1):\n",
        "    return torch.nn.Sequential(\n",
        "        torch.nn.Conv2d(c_in, c_out, k, padding=p, stride=s),\n",
        "        torch.nn.ReLU(),\n",
        "        torch.nn.MaxPool2d(pk, stride=ps)\n",
        "    )\n",
        "\n",
        "# def block2(c_in, c_out, k=5, p=3, s=2, pk=2, ps=1):\n",
        "#     return torch.nn.Sequential(\n",
        "#         torch.nn.Conv2d(c_in, c_out, k, padding=p, stride=s),\n",
        "#         torch.nn.ReLU(),\n",
        "#         torch.nn.MaxPool2d(pk, stride=ps)\n",
        "#     )\n",
        "\n",
        "class CNN(torch.nn.Module):\n",
        "  def __init__(self, n_channels=3, n_outputs=10):\n",
        "    super().__init__()\n",
        "    self.conv1 = block(n_channels, 784)\n",
        "    self.conv2 = block(784, 392)\n",
        "    self.conv3 = block(392, 196)\n",
        "    self.fc = torch.nn.Linear(196 * 1 * 1, n_outputs)\n",
        "\n",
        "  # def forward(self, x):\n",
        "  #   print(\"Dimensiones:\")\n",
        "  #   print(\"Entrada: \", x.shape)\n",
        "  #   x = self.conv1(x)\n",
        "  #   print(\"conv1: \", x.shape)\n",
        "  #   x = self.conv2(x)\n",
        "  #   print(\"conv2: \", x.shape)\n",
        "  #   x = self.conv3(x)\n",
        "  #   print(\"conv3: \", x.shape)\n",
        "  #   x = x.view(x.shape[0], -1)\n",
        "  #   print(\"pre fc: \", x.shape)\n",
        "  #   x = self.fc(x)\n",
        "  #   print(\"Salida: \", x.shape)\n",
        "  #   return x\n",
        "  def forward(self, x):\n",
        "    x = self.conv1(x)\n",
        "    x = self.conv2(x)\n",
        "    x = self.conv3(x)\n",
        "    x = x.view(x.shape[0], -1)\n",
        "    x = self.fc(x)\n",
        "    return x"
      ],
      "metadata": {
        "id": "NFdUkyWTmzMX"
      },
      "execution_count": 57,
      "outputs": []
    },
    {
      "cell_type": "code",
      "source": [
        "model = CNN()\n",
        "\n",
        "output = model(torch.randn(64, 3, 32, 32))"
      ],
      "metadata": {
        "id": "Cw9nTei3rGwp"
      },
      "execution_count": 58,
      "outputs": []
    },
    {
      "cell_type": "code",
      "source": [
        "from tqdm import tqdm\n",
        "import numpy as np\n",
        "\n",
        "def fit(model, dataloader, epochs=5):\n",
        "    model.to(device)\n",
        "    optimizer = torch.optim.Adam(model.parameters(), lr=1e-5)\n",
        "    criterion = torch.nn.CrossEntropyLoss()\n",
        "    for epoch in range(1, epochs+1):\n",
        "        model.train()\n",
        "        train_loss, train_acc = [], []\n",
        "        bar = tqdm(dataloader['train'])\n",
        "        for batch in bar:\n",
        "            X, y = batch\n",
        "            X, y = X.to(device), y.to(device)\n",
        "            optimizer.zero_grad()\n",
        "            y_hat = model(X)\n",
        "            loss = criterion(y_hat, y)\n",
        "            loss.backward()\n",
        "            optimizer.step()\n",
        "            train_loss.append(loss.item())\n",
        "            acc = (y == torch.argmax(y_hat, axis=1)).sum().item() / len(y)\n",
        "            train_acc.append(acc)\n",
        "            bar.set_description(f\"loss {np.mean(train_loss):.5f} acc {np.mean(train_acc):.5f}\")\n",
        "        bar = tqdm(dataloader['test'])\n",
        "        val_loss, val_acc = [], []\n",
        "        model.eval()\n",
        "        with torch.no_grad():\n",
        "            for batch in bar:\n",
        "                X, y = batch\n",
        "                X, y = X.to(device), y.to(device)\n",
        "                y_hat = model(X)\n",
        "                loss = criterion(y_hat, y)\n",
        "                val_loss.append(loss.item())\n",
        "                acc = (y == torch.argmax(y_hat, axis=1)).sum().item() / len(y)\n",
        "                val_acc.append(acc)\n",
        "                bar.set_description(f\"val_loss {np.mean(val_loss):.5f} val_acc {np.mean(val_acc):.5f}\")\n",
        "        print(f\"Epoch {epoch}/{epochs} loss {np.mean(train_loss):.5f} val_loss {np.mean(val_loss):.5f} acc {np.mean(train_acc):.5f} val_acc {np.mean(val_acc):.5f}\")"
      ],
      "metadata": {
        "id": "zt6zVIPbqUwx"
      },
      "execution_count": 59,
      "outputs": []
    },
    {
      "cell_type": "code",
      "source": [
        "model = CNN()\n",
        "fit(model, dataloader, epochs=20)"
      ],
      "metadata": {
        "colab": {
          "base_uri": "https://localhost:8080/"
        },
        "id": "AGhcf4Yrq4Lo",
        "outputId": "31bb7cfb-403b-417b-fdc2-18b61395980d"
      },
      "execution_count": 61,
      "outputs": [
        {
          "metadata": {
            "tags": null
          },
          "name": "stderr",
          "output_type": "stream",
          "text": [
            "loss 2.03045 acc 0.27339: 100%|██████████| 391/391 [00:33<00:00, 11.72it/s]\n",
            "val_loss 2.32584 val_acc 0.14072: 100%|██████████| 79/79 [00:02<00:00, 29.07it/s]\n"
          ]
        },
        {
          "metadata": {
            "tags": null
          },
          "name": "stdout",
          "output_type": "stream",
          "text": [
            "Epoch 1/20 loss 2.03045 val_loss 2.32584 acc 0.27339 val_acc 0.14072\n"
          ]
        },
        {
          "metadata": {
            "tags": null
          },
          "name": "stderr",
          "output_type": "stream",
          "text": [
            "loss 1.75391 acc 0.36978: 100%|██████████| 391/391 [00:33<00:00, 11.77it/s]\n",
            "val_loss 2.25356 val_acc 0.19373: 100%|██████████| 79/79 [00:02<00:00, 28.48it/s]\n"
          ]
        },
        {
          "metadata": {
            "tags": null
          },
          "name": "stdout",
          "output_type": "stream",
          "text": [
            "Epoch 2/20 loss 1.75391 val_loss 2.25356 acc 0.36978 val_acc 0.19373\n"
          ]
        },
        {
          "metadata": {
            "tags": null
          },
          "name": "stderr",
          "output_type": "stream",
          "text": [
            "loss 1.63388 acc 0.41260: 100%|██████████| 391/391 [00:33<00:00, 11.79it/s]\n",
            "val_loss 2.28089 val_acc 0.19937: 100%|██████████| 79/79 [00:02<00:00, 29.19it/s]\n"
          ]
        },
        {
          "metadata": {
            "tags": null
          },
          "name": "stdout",
          "output_type": "stream",
          "text": [
            "Epoch 3/20 loss 1.63388 val_loss 2.28089 acc 0.41260 val_acc 0.19937\n"
          ]
        },
        {
          "metadata": {
            "tags": null
          },
          "name": "stderr",
          "output_type": "stream",
          "text": [
            "loss 1.55991 acc 0.44357: 100%|██████████| 391/391 [00:33<00:00, 11.76it/s]\n",
            "val_loss 2.25627 val_acc 0.19264: 100%|██████████| 79/79 [00:02<00:00, 26.82it/s]\n"
          ]
        },
        {
          "metadata": {
            "tags": null
          },
          "name": "stdout",
          "output_type": "stream",
          "text": [
            "Epoch 4/20 loss 1.55991 val_loss 2.25627 acc 0.44357 val_acc 0.19264\n"
          ]
        },
        {
          "metadata": {
            "tags": null
          },
          "name": "stderr",
          "output_type": "stream",
          "text": [
            "loss 1.50508 acc 0.46706: 100%|██████████| 391/391 [00:32<00:00, 11.89it/s]\n",
            "val_loss 2.25671 val_acc 0.18968: 100%|██████████| 79/79 [00:03<00:00, 24.72it/s]\n"
          ]
        },
        {
          "metadata": {
            "tags": null
          },
          "name": "stdout",
          "output_type": "stream",
          "text": [
            "Epoch 5/20 loss 1.50508 val_loss 2.25671 acc 0.46706 val_acc 0.18968\n"
          ]
        },
        {
          "metadata": {
            "tags": null
          },
          "name": "stderr",
          "output_type": "stream",
          "text": [
            "loss 1.46064 acc 0.48457: 100%|██████████| 391/391 [00:32<00:00, 11.97it/s]\n",
            "val_loss 2.31858 val_acc 0.19482: 100%|██████████| 79/79 [00:03<00:00, 23.94it/s]\n"
          ]
        },
        {
          "metadata": {
            "tags": null
          },
          "name": "stdout",
          "output_type": "stream",
          "text": [
            "Epoch 6/20 loss 1.46064 val_loss 2.31858 acc 0.48457 val_acc 0.19482\n"
          ]
        },
        {
          "metadata": {
            "tags": null
          },
          "name": "stderr",
          "output_type": "stream",
          "text": [
            "loss 1.42562 acc 0.49920: 100%|██████████| 391/391 [00:32<00:00, 12.04it/s]\n",
            "val_loss 2.29739 val_acc 0.18987: 100%|██████████| 79/79 [00:03<00:00, 25.77it/s]\n"
          ]
        },
        {
          "metadata": {
            "tags": null
          },
          "name": "stdout",
          "output_type": "stream",
          "text": [
            "Epoch 7/20 loss 1.42562 val_loss 2.29739 acc 0.49920 val_acc 0.18987\n"
          ]
        },
        {
          "metadata": {
            "tags": null
          },
          "name": "stderr",
          "output_type": "stream",
          "text": [
            "loss 1.39628 acc 0.51090: 100%|██████████| 391/391 [00:32<00:00, 11.98it/s]\n",
            "val_loss 2.34311 val_acc 0.17583: 100%|██████████| 79/79 [00:02<00:00, 30.13it/s]\n"
          ]
        },
        {
          "metadata": {
            "tags": null
          },
          "name": "stdout",
          "output_type": "stream",
          "text": [
            "Epoch 8/20 loss 1.39628 val_loss 2.34311 acc 0.51090 val_acc 0.17583\n"
          ]
        },
        {
          "metadata": {
            "tags": null
          },
          "name": "stderr",
          "output_type": "stream",
          "text": [
            "loss 1.37015 acc 0.52064: 100%|██████████| 391/391 [00:32<00:00, 11.91it/s]\n",
            "val_loss 2.29302 val_acc 0.20332: 100%|██████████| 79/79 [00:02<00:00, 30.14it/s]\n"
          ]
        },
        {
          "metadata": {
            "tags": null
          },
          "name": "stdout",
          "output_type": "stream",
          "text": [
            "Epoch 9/20 loss 1.37015 val_loss 2.29302 acc 0.52064 val_acc 0.20332\n"
          ]
        },
        {
          "metadata": {
            "tags": null
          },
          "name": "stderr",
          "output_type": "stream",
          "text": [
            "loss 1.34591 acc 0.52936: 100%|██████████| 391/391 [00:32<00:00, 11.95it/s]\n",
            "val_loss 2.28742 val_acc 0.21499: 100%|██████████| 79/79 [00:02<00:00, 29.51it/s]\n"
          ]
        },
        {
          "metadata": {
            "tags": null
          },
          "name": "stdout",
          "output_type": "stream",
          "text": [
            "Epoch 10/20 loss 1.34591 val_loss 2.28742 acc 0.52936 val_acc 0.21499\n"
          ]
        },
        {
          "metadata": {
            "tags": null
          },
          "name": "stderr",
          "output_type": "stream",
          "text": [
            "loss 1.32601 acc 0.53756: 100%|██████████| 391/391 [00:32<00:00, 11.85it/s]\n",
            "val_loss 2.37978 val_acc 0.19264: 100%|██████████| 79/79 [00:02<00:00, 29.23it/s]\n"
          ]
        },
        {
          "metadata": {
            "tags": null
          },
          "name": "stdout",
          "output_type": "stream",
          "text": [
            "Epoch 11/20 loss 1.32601 val_loss 2.37978 acc 0.53756 val_acc 0.19264\n"
          ]
        },
        {
          "metadata": {
            "tags": null
          },
          "name": "stderr",
          "output_type": "stream",
          "text": [
            "loss 1.30617 acc 0.54521: 100%|██████████| 391/391 [00:32<00:00, 11.88it/s]\n",
            "val_loss 2.38490 val_acc 0.20441: 100%|██████████| 79/79 [00:02<00:00, 29.82it/s]\n"
          ]
        },
        {
          "metadata": {
            "tags": null
          },
          "name": "stdout",
          "output_type": "stream",
          "text": [
            "Epoch 12/20 loss 1.30617 val_loss 2.38490 acc 0.54521 val_acc 0.20441\n"
          ]
        },
        {
          "metadata": {
            "tags": null
          },
          "name": "stderr",
          "output_type": "stream",
          "text": [
            "loss 1.28911 acc 0.55118: 100%|██████████| 391/391 [00:32<00:00, 12.04it/s]\n",
            "val_loss 2.34239 val_acc 0.22201: 100%|██████████| 79/79 [00:02<00:00, 27.13it/s]\n"
          ]
        },
        {
          "metadata": {
            "tags": null
          },
          "name": "stdout",
          "output_type": "stream",
          "text": [
            "Epoch 13/20 loss 1.28911 val_loss 2.34239 acc 0.55118 val_acc 0.22201\n"
          ]
        },
        {
          "metadata": {
            "tags": null
          },
          "name": "stderr",
          "output_type": "stream",
          "text": [
            "loss 1.27099 acc 0.55918: 100%|██████████| 391/391 [00:32<00:00, 12.05it/s]\n",
            "val_loss 2.29666 val_acc 0.20352: 100%|██████████| 79/79 [00:03<00:00, 23.87it/s]\n"
          ]
        },
        {
          "metadata": {
            "tags": null
          },
          "name": "stdout",
          "output_type": "stream",
          "text": [
            "Epoch 14/20 loss 1.27099 val_loss 2.29666 acc 0.55918 val_acc 0.20352\n"
          ]
        },
        {
          "metadata": {
            "tags": null
          },
          "name": "stderr",
          "output_type": "stream",
          "text": [
            "loss 1.25721 acc 0.56368: 100%|██████████| 391/391 [00:32<00:00, 11.91it/s]\n",
            "val_loss 2.28232 val_acc 0.21123: 100%|██████████| 79/79 [00:03<00:00, 24.00it/s]\n"
          ]
        },
        {
          "metadata": {
            "tags": null
          },
          "name": "stdout",
          "output_type": "stream",
          "text": [
            "Epoch 15/20 loss 1.25721 val_loss 2.28232 acc 0.56368 val_acc 0.21123\n"
          ]
        },
        {
          "metadata": {
            "tags": null
          },
          "name": "stderr",
          "output_type": "stream",
          "text": [
            "loss 1.24088 acc 0.56943: 100%|██████████| 391/391 [00:33<00:00, 11.83it/s]\n",
            "val_loss 2.23363 val_acc 0.22646: 100%|██████████| 79/79 [00:03<00:00, 25.82it/s]\n"
          ]
        },
        {
          "metadata": {
            "tags": null
          },
          "name": "stdout",
          "output_type": "stream",
          "text": [
            "Epoch 16/20 loss 1.24088 val_loss 2.23363 acc 0.56943 val_acc 0.22646\n"
          ]
        },
        {
          "metadata": {
            "tags": null
          },
          "name": "stderr",
          "output_type": "stream",
          "text": [
            "loss 1.22692 acc 0.57588: 100%|██████████| 391/391 [00:32<00:00, 12.09it/s]\n",
            "val_loss 2.30539 val_acc 0.22201: 100%|██████████| 79/79 [00:02<00:00, 29.86it/s]\n"
          ]
        },
        {
          "metadata": {
            "tags": null
          },
          "name": "stdout",
          "output_type": "stream",
          "text": [
            "Epoch 17/20 loss 1.22692 val_loss 2.30539 acc 0.57588 val_acc 0.22201\n"
          ]
        },
        {
          "metadata": {
            "tags": null
          },
          "name": "stderr",
          "output_type": "stream",
          "text": [
            "loss 1.21300 acc 0.57948: 100%|██████████| 391/391 [00:32<00:00, 11.89it/s]\n",
            "val_loss 2.34242 val_acc 0.22330: 100%|██████████| 79/79 [00:02<00:00, 28.98it/s]\n"
          ]
        },
        {
          "metadata": {
            "tags": null
          },
          "name": "stdout",
          "output_type": "stream",
          "text": [
            "Epoch 18/20 loss 1.21300 val_loss 2.34242 acc 0.57948 val_acc 0.22330\n"
          ]
        },
        {
          "metadata": {
            "tags": null
          },
          "name": "stderr",
          "output_type": "stream",
          "text": [
            "loss 1.20064 acc 0.58432: 100%|██████████| 391/391 [00:33<00:00, 11.82it/s]\n",
            "val_loss 2.32548 val_acc 0.22538: 100%|██████████| 79/79 [00:02<00:00, 29.68it/s]\n"
          ]
        },
        {
          "metadata": {
            "tags": null
          },
          "name": "stdout",
          "output_type": "stream",
          "text": [
            "Epoch 19/20 loss 1.20064 val_loss 2.32548 acc 0.58432 val_acc 0.22538\n"
          ]
        },
        {
          "metadata": {
            "tags": null
          },
          "name": "stderr",
          "output_type": "stream",
          "text": [
            "loss 1.18781 acc 0.59154: 100%|██████████| 391/391 [00:32<00:00, 11.96it/s]\n",
            "val_loss 2.33870 val_acc 0.21924: 100%|██████████| 79/79 [00:02<00:00, 30.46it/s]"
          ]
        },
        {
          "metadata": {
            "tags": null
          },
          "name": "stdout",
          "output_type": "stream",
          "text": [
            "Epoch 20/20 loss 1.18781 val_loss 2.33870 acc 0.59154 val_acc 0.21924\n"
          ]
        },
        {
          "metadata": {
            "tags": null
          },
          "name": "stderr",
          "output_type": "stream",
          "text": [
            "\n"
          ]
        }
      ]
    },
    {
      "cell_type": "code",
      "source": [],
      "metadata": {
        "id": "lrh8L-RLQFNl"
      },
      "execution_count": 60,
      "outputs": []
    }
  ]
}