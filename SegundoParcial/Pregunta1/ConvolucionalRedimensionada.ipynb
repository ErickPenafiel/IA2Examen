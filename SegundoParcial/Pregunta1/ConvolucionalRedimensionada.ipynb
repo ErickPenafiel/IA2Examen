{
  "nbformat": 4,
  "nbformat_minor": 0,
  "metadata": {
    "colab": {
      "provenance": []
    },
    "kernelspec": {
      "name": "python3",
      "display_name": "Python 3"
    },
    "language_info": {
      "name": "python"
    },
    "accelerator": "GPU",
    "gpuClass": "standard"
  },
  "cells": [
    {
      "cell_type": "code",
      "source": [
        "import torch\n",
        "import torchvision\n",
        "import torchvision.transforms as transforms\n",
        "import numpy as np\n",
        "\n",
        "device = \"cuda\" if torch.cuda.is_available() else \"cpu\""
      ],
      "metadata": {
        "id": "3ny-0Pp7mDa_"
      },
      "execution_count": null,
      "outputs": []
    },
    {
      "cell_type": "code",
      "source": [
        "transform = transforms.Compose(\n",
        "    [transforms.Resize((64, 64)),\n",
        "     transforms.ToTensor(),\n",
        "     transforms.Normalize((0.5, 0.5, 0.5), (0.5, 0.5, 0.5))])"
      ],
      "metadata": {
        "id": "VbZHI3v4tQan"
      },
      "execution_count": null,
      "outputs": []
    },
    {
      "cell_type": "code",
      "source": [
        "train_dataset = torchvision.datasets.CIFAR10(root='.', train=True, transform=transform, download=True)\n",
        "test_dataset = torchvision.datasets.CIFAR10(root='.', train=False, transform=transforms.ToTensor(), download=True)\n",
        "\n",
        "classes = ('plane', 'car', 'bird', 'cat',\n",
        "           'deer', 'dog', 'frog', 'horse', 'ship', 'truck')"
      ],
      "metadata": {
        "colab": {
          "base_uri": "https://localhost:8080/"
        },
        "id": "zMxsGQfKmAmg",
        "outputId": "5fba1a8e-3a9d-4f3a-b8ae-05ef8b9e9944"
      },
      "execution_count": null,
      "outputs": [
        {
          "output_type": "stream",
          "name": "stdout",
          "text": [
            "Files already downloaded and verified\n",
            "Files already downloaded and verified\n"
          ]
        }
      ]
    },
    {
      "cell_type": "code",
      "source": [
        "print(\"dataset keys:\",train_dataset.__dict__.keys())\n",
        "print(\"dataset classes:\", train_dataset.classes)\n",
        "print(\"dataset data type:\", type(train_dataset.data))\n",
        "print(\"dataset target type:\", type(train_dataset.targets))"
      ],
      "metadata": {
        "colab": {
          "base_uri": "https://localhost:8080/"
        },
        "id": "yQEZfKfNtix2",
        "outputId": "0502598c-fa26-4370-e292-4813a1c63cb9"
      },
      "execution_count": null,
      "outputs": [
        {
          "output_type": "stream",
          "name": "stdout",
          "text": [
            "dataset keys: dict_keys(['root', 'transform', 'target_transform', 'transforms', 'train', 'data', 'targets', 'classes', 'class_to_idx'])\n",
            "dataset classes: ['airplane', 'automobile', 'bird', 'cat', 'deer', 'dog', 'frog', 'horse', 'ship', 'truck']\n",
            "dataset data type: <class 'numpy.ndarray'>\n",
            "dataset target type: <class 'list'>\n"
          ]
        }
      ]
    },
    {
      "cell_type": "code",
      "source": [
        "batch_size = 128\n",
        "\n",
        "dataloader = {\n",
        "    'train': torch.utils.data.DataLoader(train_dataset, batch_size=batch_size, shuffle=True, pin_memory=True),\n",
        "    'test': torch.utils.data.DataLoader(test_dataset, batch_size=batch_size, shuffle=False, pin_memory=True)\n",
        "}"
      ],
      "metadata": {
        "id": "Il50m84ttoW0"
      },
      "execution_count": null,
      "outputs": []
    },
    {
      "cell_type": "code",
      "source": [
        "dataloader = {\n",
        "    'train': torch.utils.data.DataLoader(torchvision.datasets.CIFAR10('../data', train=True, download=True,\n",
        "                       transform=torchvision.transforms.Compose([\n",
        "                            torchvision.transforms.Resize((64, 64)),\n",
        "                            torchvision.transforms.ToTensor(),\n",
        "                            torchvision.transforms.Normalize((0.1307,), (0.3081,))\n",
        "                            ])\n",
        "                      ), batch_size=64, shuffle=True, pin_memory=True),\n",
        "    'test': torch.utils.data.DataLoader(torchvision.datasets.CIFAR10('../data', train=False,\n",
        "                   transform=torchvision.transforms.Compose([\n",
        "                        torchvision.transforms.Resize((64, 64)),\n",
        "                        torchvision.transforms.ToTensor(),\n",
        "                        torchvision.transforms.Normalize((0.1307,), (0.3081,))\n",
        "                        ])\n",
        "                     ), batch_size=64, shuffle=False, pin_memory=True)\n",
        "}"
      ],
      "metadata": {
        "colab": {
          "base_uri": "https://localhost:8080/"
        },
        "id": "NtBSN75dC_aG",
        "outputId": "c2207077-56b4-45fb-9393-c7d9f5c0c76b"
      },
      "execution_count": null,
      "outputs": [
        {
          "output_type": "stream",
          "name": "stdout",
          "text": [
            "Files already downloaded and verified\n"
          ]
        }
      ]
    },
    {
      "cell_type": "code",
      "source": [
        "#def block(c_in, c_out, k=5, p=0, s=2, pk=2, ps=1):\n",
        "def block(c_in, c_out, k=5, p=0, s=2, pk=2, ps=1):\n",
        "    return torch.nn.Sequential(\n",
        "        torch.nn.Conv2d(c_in, c_out, k, padding=p, stride=s),\n",
        "        torch.nn.ReLU(),\n",
        "        torch.nn.MaxPool2d(pk, stride=ps)\n",
        "    )\n",
        "\n",
        "def block2(c_in, c_out, k=5, p=3, s=2, pk=2, ps=1):\n",
        "    return torch.nn.Sequential(\n",
        "        torch.nn.Conv2d(c_in, c_out, k, padding=p, stride=s),\n",
        "        torch.nn.ReLU(),\n",
        "        torch.nn.MaxPool2d(pk, stride=ps)\n",
        "    )\n",
        "\n",
        "class CNN(torch.nn.Module):\n",
        "  def __init__(self, n_channels=3, n_outputs=10):\n",
        "    super().__init__()\n",
        "    self.conv1 = block(n_channels, 784)\n",
        "    self.conv2 = block(784, 392)\n",
        "    self.conv3 = block(392, 196)\n",
        "    self.conv4 = block2(196, 64)\n",
        "    self.fc = torch.nn.Linear(64 * 2 * 2, n_outputs)\n",
        "\n",
        "  # def forward(self, x):\n",
        "  #   print(\"Dimensiones:\")\n",
        "  #   print(\"Entrada: \", x.shape)\n",
        "  #   x = self.conv1(x)\n",
        "  #   print(\"conv1: \", x.shape)\n",
        "  #   x = self.conv2(x)\n",
        "  #   print(\"conv2: \", x.shape)\n",
        "  #   x = self.conv3(x)\n",
        "  #   print(\"conv3: \", x.shape)\n",
        "  #   x = self.conv4(x)\n",
        "  #   print(\"conv4: \", x.shape)\n",
        "  #   x = x.view(x.shape[0], -1)\n",
        "  #   print(\"pre fc: \", x.shape)\n",
        "  #   x = self.fc(x)\n",
        "  #   print(\"Salida: \", x.shape)\n",
        "  #   return x\n",
        "  def forward(self, x):\n",
        "    x = self.conv1(x)\n",
        "    x = self.conv2(x)\n",
        "    x = self.conv3(x)\n",
        "    x = self.conv4(x)\n",
        "    x = x.view(x.shape[0], -1)\n",
        "    x = self.fc(x)\n",
        "    return x"
      ],
      "metadata": {
        "id": "NFdUkyWTmzMX"
      },
      "execution_count": null,
      "outputs": []
    },
    {
      "cell_type": "code",
      "source": [
        "model = CNN()\n",
        "\n",
        "output = model(torch.randn(64, 3, 64, 64))"
      ],
      "metadata": {
        "id": "Cw9nTei3rGwp"
      },
      "execution_count": null,
      "outputs": []
    },
    {
      "cell_type": "code",
      "source": [
        "from tqdm import tqdm\n",
        "import numpy as np\n",
        "\n",
        "def fit(model, dataloader, epochs=5):\n",
        "    model.to(device)\n",
        "    optimizer = torch.optim.Adam(model.parameters(), lr=1e-5)\n",
        "    criterion = torch.nn.CrossEntropyLoss()\n",
        "    for epoch in range(1, epochs+1):\n",
        "        model.train()\n",
        "        train_loss, train_acc = [], []\n",
        "        bar = tqdm(dataloader['train'])\n",
        "        for batch in bar:\n",
        "            X, y = batch\n",
        "            X, y = X.to(device), y.to(device)\n",
        "            optimizer.zero_grad()\n",
        "            y_hat = model(X)\n",
        "            loss = criterion(y_hat, y)\n",
        "            loss.backward()\n",
        "            optimizer.step()\n",
        "            train_loss.append(loss.item())\n",
        "            acc = (y == torch.argmax(y_hat, axis=1)).sum().item() / len(y)\n",
        "            train_acc.append(acc)\n",
        "            bar.set_description(f\"loss {np.mean(train_loss):.5f} acc {np.mean(train_acc):.5f}\")\n",
        "        bar = tqdm(dataloader['test'])\n",
        "        val_loss, val_acc = [], []\n",
        "        model.eval()\n",
        "        with torch.no_grad():\n",
        "            for batch in bar:\n",
        "                X, y = batch\n",
        "                X, y = X.to(device), y.to(device)\n",
        "                y_hat = model(X)\n",
        "                loss = criterion(y_hat, y)\n",
        "                val_loss.append(loss.item())\n",
        "                acc = (y == torch.argmax(y_hat, axis=1)).sum().item() / len(y)\n",
        "                val_acc.append(acc)\n",
        "                bar.set_description(f\"val_loss {np.mean(val_loss):.5f} val_acc {np.mean(val_acc):.5f}\")\n",
        "        print(f\"Epoch {epoch}/{epochs} loss {np.mean(train_loss):.5f} val_loss {np.mean(val_loss):.5f} acc {np.mean(train_acc):.5f} val_acc {np.mean(val_acc):.5f}\")"
      ],
      "metadata": {
        "id": "zt6zVIPbqUwx"
      },
      "execution_count": null,
      "outputs": []
    },
    {
      "cell_type": "code",
      "source": [
        "model = CNN()\n",
        "fit(model, dataloader, epochs=20)"
      ],
      "metadata": {
        "colab": {
          "base_uri": "https://localhost:8080/"
        },
        "id": "AGhcf4Yrq4Lo",
        "outputId": "2426481c-723b-45c3-e395-ef84d6f27ec5"
      },
      "execution_count": null,
      "outputs": [
        {
          "output_type": "stream",
          "name": "stderr",
          "text": [
            "loss 1.82693 acc 0.33082: 100%|██████████| 782/782 [02:58<00:00,  4.37it/s]\n",
            "val_loss 1.58162 val_acc 0.42605: 100%|██████████| 157/157 [00:12<00:00, 12.77it/s]\n"
          ]
        },
        {
          "output_type": "stream",
          "name": "stdout",
          "text": [
            "Epoch 1/20 loss 1.82693 val_loss 1.58162 acc 0.33082 val_acc 0.42605\n"
          ]
        },
        {
          "output_type": "stream",
          "name": "stderr",
          "text": [
            "loss 1.50451 acc 0.45806: 100%|██████████| 782/782 [02:57<00:00,  4.41it/s]\n",
            "val_loss 1.45643 val_acc 0.47572: 100%|██████████| 157/157 [00:12<00:00, 12.54it/s]\n"
          ]
        },
        {
          "output_type": "stream",
          "name": "stdout",
          "text": [
            "Epoch 2/20 loss 1.50451 val_loss 1.45643 acc 0.45806 val_acc 0.47572\n"
          ]
        },
        {
          "output_type": "stream",
          "name": "stderr",
          "text": [
            "loss 1.39083 acc 0.50416: 100%|██████████| 782/782 [02:57<00:00,  4.42it/s]\n",
            "val_loss 1.38981 val_acc 0.50717: 100%|██████████| 157/157 [00:12<00:00, 12.66it/s]\n"
          ]
        },
        {
          "output_type": "stream",
          "name": "stdout",
          "text": [
            "Epoch 3/20 loss 1.39083 val_loss 1.38981 acc 0.50416 val_acc 0.50717\n"
          ]
        },
        {
          "output_type": "stream",
          "name": "stderr",
          "text": [
            "loss 1.31788 acc 0.53489: 100%|██████████| 782/782 [02:57<00:00,  4.41it/s]\n",
            "val_loss 1.29482 val_acc 0.53782: 100%|██████████| 157/157 [00:12<00:00, 12.44it/s]\n"
          ]
        },
        {
          "output_type": "stream",
          "name": "stdout",
          "text": [
            "Epoch 4/20 loss 1.31788 val_loss 1.29482 acc 0.53489 val_acc 0.53782\n"
          ]
        },
        {
          "output_type": "stream",
          "name": "stderr",
          "text": [
            "loss 1.25673 acc 0.55752: 100%|██████████| 782/782 [02:58<00:00,  4.39it/s]\n",
            "val_loss 1.23596 val_acc 0.56469: 100%|██████████| 157/157 [00:12<00:00, 12.27it/s]\n"
          ]
        },
        {
          "output_type": "stream",
          "name": "stdout",
          "text": [
            "Epoch 5/20 loss 1.25673 val_loss 1.23596 acc 0.55752 val_acc 0.56469\n"
          ]
        },
        {
          "output_type": "stream",
          "name": "stderr",
          "text": [
            "loss 1.20853 acc 0.57511: 100%|██████████| 782/782 [02:57<00:00,  4.40it/s]\n",
            "val_loss 1.23360 val_acc 0.56141: 100%|██████████| 157/157 [00:12<00:00, 12.70it/s]\n"
          ]
        },
        {
          "output_type": "stream",
          "name": "stdout",
          "text": [
            "Epoch 6/20 loss 1.20853 val_loss 1.23360 acc 0.57511 val_acc 0.56141\n"
          ]
        },
        {
          "output_type": "stream",
          "name": "stderr",
          "text": [
            "loss 1.16404 acc 0.59433: 100%|██████████| 782/782 [02:56<00:00,  4.42it/s]\n",
            "val_loss 1.16319 val_acc 0.59395: 100%|██████████| 157/157 [00:12<00:00, 12.70it/s]\n"
          ]
        },
        {
          "output_type": "stream",
          "name": "stdout",
          "text": [
            "Epoch 7/20 loss 1.16404 val_loss 1.16319 acc 0.59433 val_acc 0.59395\n"
          ]
        },
        {
          "output_type": "stream",
          "name": "stderr",
          "text": [
            "loss 1.12497 acc 0.60949: 100%|██████████| 782/782 [02:56<00:00,  4.43it/s]\n",
            "val_loss 1.13866 val_acc 0.59604: 100%|██████████| 157/157 [00:12<00:00, 12.77it/s]\n"
          ]
        },
        {
          "output_type": "stream",
          "name": "stdout",
          "text": [
            "Epoch 8/20 loss 1.12497 val_loss 1.13866 acc 0.60949 val_acc 0.59604\n"
          ]
        },
        {
          "output_type": "stream",
          "name": "stderr",
          "text": [
            "loss 1.08917 acc 0.61980: 100%|██████████| 782/782 [02:56<00:00,  4.42it/s]\n",
            "val_loss 1.11041 val_acc 0.61286: 100%|██████████| 157/157 [00:12<00:00, 12.74it/s]\n"
          ]
        },
        {
          "output_type": "stream",
          "name": "stdout",
          "text": [
            "Epoch 9/20 loss 1.08917 val_loss 1.11041 acc 0.61980 val_acc 0.61286\n"
          ]
        },
        {
          "output_type": "stream",
          "name": "stderr",
          "text": [
            "loss 1.05887 acc 0.63307: 100%|██████████| 782/782 [02:56<00:00,  4.42it/s]\n",
            "val_loss 1.10367 val_acc 0.60798: 100%|██████████| 157/157 [00:12<00:00, 12.66it/s]\n"
          ]
        },
        {
          "output_type": "stream",
          "name": "stdout",
          "text": [
            "Epoch 10/20 loss 1.05887 val_loss 1.10367 acc 0.63307 val_acc 0.60798\n"
          ]
        },
        {
          "output_type": "stream",
          "name": "stderr",
          "text": [
            "loss 1.03013 acc 0.64266: 100%|██████████| 782/782 [02:56<00:00,  4.42it/s]\n",
            "val_loss 1.09475 val_acc 0.61873: 100%|██████████| 157/157 [00:12<00:00, 12.69it/s]\n"
          ]
        },
        {
          "output_type": "stream",
          "name": "stdout",
          "text": [
            "Epoch 11/20 loss 1.03013 val_loss 1.09475 acc 0.64266 val_acc 0.61873\n"
          ]
        },
        {
          "output_type": "stream",
          "name": "stderr",
          "text": [
            "loss 1.00188 acc 0.65235: 100%|██████████| 782/782 [02:57<00:00,  4.41it/s]\n",
            "val_loss 1.05370 val_acc 0.63217: 100%|██████████| 157/157 [00:12<00:00, 12.68it/s]\n"
          ]
        },
        {
          "output_type": "stream",
          "name": "stdout",
          "text": [
            "Epoch 12/20 loss 1.00188 val_loss 1.05370 acc 0.65235 val_acc 0.63217\n"
          ]
        },
        {
          "output_type": "stream",
          "name": "stderr",
          "text": [
            "loss 0.97919 acc 0.66145: 100%|██████████| 782/782 [02:57<00:00,  4.41it/s]\n",
            "val_loss 1.08406 val_acc 0.61236: 100%|██████████| 157/157 [00:12<00:00, 12.42it/s]\n"
          ]
        },
        {
          "output_type": "stream",
          "name": "stdout",
          "text": [
            "Epoch 13/20 loss 0.97919 val_loss 1.08406 acc 0.66145 val_acc 0.61236\n"
          ]
        },
        {
          "output_type": "stream",
          "name": "stderr",
          "text": [
            "loss 0.95461 acc 0.67076: 100%|██████████| 782/782 [02:57<00:00,  4.42it/s]\n",
            "val_loss 1.01512 val_acc 0.64441: 100%|██████████| 157/157 [00:12<00:00, 12.71it/s]\n"
          ]
        },
        {
          "output_type": "stream",
          "name": "stdout",
          "text": [
            "Epoch 14/20 loss 0.95461 val_loss 1.01512 acc 0.67076 val_acc 0.64441\n"
          ]
        },
        {
          "output_type": "stream",
          "name": "stderr",
          "text": [
            "loss 0.93446 acc 0.67757: 100%|██████████| 782/782 [02:57<00:00,  4.41it/s]\n",
            "val_loss 1.06748 val_acc 0.62838: 100%|██████████| 157/157 [00:12<00:00, 12.50it/s]\n"
          ]
        },
        {
          "output_type": "stream",
          "name": "stdout",
          "text": [
            "Epoch 15/20 loss 0.93446 val_loss 1.06748 acc 0.67757 val_acc 0.62838\n"
          ]
        },
        {
          "output_type": "stream",
          "name": "stderr",
          "text": [
            "loss 0.91159 acc 0.68702: 100%|██████████| 782/782 [02:57<00:00,  4.41it/s]\n",
            "val_loss 1.00568 val_acc 0.64809: 100%|██████████| 157/157 [00:12<00:00, 12.63it/s]\n"
          ]
        },
        {
          "output_type": "stream",
          "name": "stdout",
          "text": [
            "Epoch 16/20 loss 0.91159 val_loss 1.00568 acc 0.68702 val_acc 0.64809\n"
          ]
        },
        {
          "output_type": "stream",
          "name": "stderr",
          "text": [
            "loss 0.89616 acc 0.69242: 100%|██████████| 782/782 [02:56<00:00,  4.42it/s]\n",
            "val_loss 0.99010 val_acc 0.65207: 100%|██████████| 157/157 [00:12<00:00, 12.58it/s]\n"
          ]
        },
        {
          "output_type": "stream",
          "name": "stdout",
          "text": [
            "Epoch 17/20 loss 0.89616 val_loss 0.99010 acc 0.69242 val_acc 0.65207\n"
          ]
        },
        {
          "output_type": "stream",
          "name": "stderr",
          "text": [
            "loss 0.87591 acc 0.69887: 100%|██████████| 782/782 [02:57<00:00,  4.41it/s]\n",
            "val_loss 0.96447 val_acc 0.66521: 100%|██████████| 157/157 [00:12<00:00, 12.62it/s]\n"
          ]
        },
        {
          "output_type": "stream",
          "name": "stdout",
          "text": [
            "Epoch 18/20 loss 0.87591 val_loss 0.96447 acc 0.69887 val_acc 0.66521\n"
          ]
        },
        {
          "output_type": "stream",
          "name": "stderr",
          "text": [
            "loss 0.85680 acc 0.70520: 100%|██████████| 782/782 [02:57<00:00,  4.41it/s]\n",
            "val_loss 0.95875 val_acc 0.67197: 100%|██████████| 157/157 [00:12<00:00, 12.69it/s]\n"
          ]
        },
        {
          "output_type": "stream",
          "name": "stdout",
          "text": [
            "Epoch 19/20 loss 0.85680 val_loss 0.95875 acc 0.70520 val_acc 0.67197\n"
          ]
        },
        {
          "output_type": "stream",
          "name": "stderr",
          "text": [
            "loss 0.84052 acc 0.71180: 100%|██████████| 782/782 [02:57<00:00,  4.41it/s]\n",
            "val_loss 0.95139 val_acc 0.67317: 100%|██████████| 157/157 [00:12<00:00, 12.64it/s]"
          ]
        },
        {
          "output_type": "stream",
          "name": "stdout",
          "text": [
            "Epoch 20/20 loss 0.84052 val_loss 0.95139 acc 0.71180 val_acc 0.67317\n"
          ]
        },
        {
          "output_type": "stream",
          "name": "stderr",
          "text": [
            "\n"
          ]
        }
      ]
    },
    {
      "cell_type": "code",
      "source": [],
      "metadata": {
        "id": "lrh8L-RLQFNl"
      },
      "execution_count": null,
      "outputs": []
    }
  ]
}